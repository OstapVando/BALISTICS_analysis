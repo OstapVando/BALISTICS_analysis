{
 "cells": [
  {
   "cell_type": "code",
   "execution_count": 1,
   "id": "11249b4d",
   "metadata": {},
   "outputs": [
    {
     "name": "stdout",
     "output_type": "stream",
     "text": [
      "    ID             Cartridge    Type  Weight     BC    V0  V100  V200    E0  \\\n",
      "0    1   44 REMINGTON MAGNUM   Rifle     225  0.145  1870  1416  1106  1747   \n",
      "1    2            357 MAGNUM   Rifle     140  0.169  1850  1458  1165  1064   \n",
      "2    3            30 CARBINE   Rifle     110  0.178  2000  1601  1279   977   \n",
      "3    4          35 REMINGTON   Rifle     200  0.192  2080  1697  1375  1921   \n",
      "4    5      45-70 GOVERNMENT   Rifle     325  0.230  2050  1730  1451  3032   \n",
      "5    6        450 BUSHMASTER   Rifle     250  0.210  2200  1835  1515  2686   \n",
      "6    7            450 MARLIN   Rifle     325  0.230  2225  1887  1587  3572   \n",
      "7    8      30-30 WINCHESTER   Rifle     150  0.193  2390  1974  1608  1902   \n",
      "8    9         8X57MM MAUSER   Rifle     170  0.205  2360  1970  1624  2102   \n",
      "9   10            444 MARLIN   Rifle     265  0.225  2325  1971  1654  3180   \n",
      "10  11              458 LOTT   Rifle     500  0.295  2300  2029  1778  5872   \n",
      "11  12     7.62X39MM RUSSIAN   Rifle     123  0.295  2350  2075  1821  1508   \n",
      "12  13           300 WHISPER   Rifle     110  0.290  2375  2094  1834  1377   \n",
      "13  14             416 RIGBY   Rifle     400  0.390  2370  2159  1960  4988   \n",
      "14  15             416 RUGER   Rifle     400  0.319  2400  2142  1901  5115   \n",
      "15  16        307 WINCHESTER   Rifle     180  0.253  2510  2179  1875  2518   \n",
      "16  17        358 WINCHESTER   Rifle     200  0.261  2490  2171  1876  2753   \n",
      "17  18  416 REMINGTON MAGNUM   Rifle     400  0.367  2400  2175  1963  5115   \n",
      "18  19            30-40 KRAG   Rifle     180  0.394  2430  2219  2018  2360   \n",
      "19  20           303 BRITISH   Rifle     180  0.369  2460  2233  2019  2418   \n",
      "20  21     6.8 REMINGTON SPC   Rifle     120  0.400  2460  2250  2051  1612   \n",
      "21  22    308 MARLIN EXPRESS   Rifle     150  0.193  2725  2276  1873  2473   \n",
      "22  23  460 WEATHERBY MAGNUM   Rifle     500  0.295  2600  2309  2038  7504   \n",
      "23  24       6.5X55MM MAUSER   Rifle     140  0.435  2550  2353  2165  2021   \n",
      "24  25            300 SAVAGE   Rifle     150  0.314  2630  2354  2096  2304   \n",
      "25  26    338 MARLIN EXPRESS   Rifle     200  0.455  2565  2376  2195  2922   \n",
      "26  27             35 WHELEN   Rifle     200  0.294  2675  2378  2101  3177   \n",
      "27  28             375 RUGER   Rifle     300  0.275  2660  2345  2052  4713   \n",
      "28  29         7X57MM MAUSER   Rifle     140  0.390  2660  2435  2222  2199   \n",
      "29  30           338 FEDERAL   Rifle     200  0.440  2630  2432  2242  3072   \n",
      "30  31  416 WEATHERBY MAGNUM   Rifle     400  0.311  2700  2418  2153  6474   \n",
      "31  32  350 REMINGTON MAGNUM   Rifle     200  0.293  2775  2471  2187  3419   \n",
      "32  33         260 REMINGTON   Rifle     140  0.435  2750  2544  2348  2351   \n",
      "33  34       30 REMINGTON AR   Rifle     125  0.267  2880  2540  2224  2302   \n",
      "34  35        7.62X51MM NATO   Rifle     147  0.415  2800  2582  2375  2559   \n",
      "35  36        308 WINCHESTER   Rifle     150  0.314  2820  2533  2264  2649   \n",
      "36  37  375 WEATHERBY MAGNUM   Rifle     300  0.398  2800  2573  2357  5224   \n",
      "37  38      7MM-08 REMINGTON   Rifle     140  0.390  2860  2625  2403  2543   \n",
      "38  39     30-06 SPRINGFIELD   Rifle     150  0.314  2910  2617  2343  2820   \n",
      "39  40     7.62X54MM RUSSIAN   Rifle     174  0.470  2800  2607  2422  3029   \n",
      "40  41  8MM REMINGTON MAGNUM   Rifle     200  0.332  2900  2623  2363  3734   \n",
      "41  42  378 WEATHERBY MAGNUM   Rifle     300  0.275  2925  2591  2281  5694   \n",
      "42  43    30 THOMPSON CENTER   Rifle     150  0.415  2920  2696  2483  2840   \n",
      "43  44  340 WEATHERBY MAGNUM   Rifle     250  0.473  2941  2743  2554  4801   \n",
      "44  45        270 WINCHESTER   Rifle     140  0.472  2950  2751  2561  2705   \n",
      "45  46         280 REMINGTON   Rifle     140  0.390  3000  2758  2529  2798   \n",
      "46  47             338 LAPUA   Rifle     250  0.675  2960  2820  2684  4863   \n",
      "47  48    300 REMINGTON SAUM   Rifle     150  0.346  3110  2831  2570  3221   \n",
      "48  49    7MM REMINGTON SAUM   Rifle     140  0.409  3175  2934  2707  3134   \n",
      "49  50  7MM REMINGTON MAGNUM   Rifle     140  0.409  3175  2934  2707  3134   \n",
      "50  51  270 WEATHERBY MAGNUM   Rifle     140  0.496  3320  3114  2917  3427   \n",
      "51  52  7MM WEATHERBY MAGNUM   Rifle     140  0.477  3250  3039  2839  3284   \n",
      "52  53  300 WEATHERBY MAGNUM   Rifle     150  0.387  3540  3263  3005  4174   \n",
      "53  54            350 Legend   Rifle     160  0.259  2300  1993  1712  1879   \n",
      "54  55       6.5mm Creedmoor   Rifle     120  0.450  2925  2718  2520  2280   \n",
      "\n",
      "    E100  E200  BD100  BD200  \n",
      "0   1002   612   -5.2  -16.2  \n",
      "1    660   422   -5.0  -15.1  \n",
      "2    626   399   -4.0  -12.3  \n",
      "3   1279   839   -3.5  -10.8  \n",
      "4   2159  1519   -3.4  -10.2  \n",
      "5   1868  1274   -2.9   -9.0  \n",
      "6   2570  1816   -2.7   -8.4  \n",
      "7   1298   861   -2.4   -7.6  \n",
      "8   1465   995   -2.4   -7.6  \n",
      "9   2286  1609   -2.4   -7.5  \n",
      "10  4569  3509   -2.3   -7.0  \n",
      "11  1176   905   -2.2   -6.6  \n",
      "12  1071   821   -2.1   -6.5  \n",
      "13  4142  3413   -2.0   -6.0  \n",
      "14  4076  3211   -2.0   -6.1  \n",
      "15  1898  1406   -1.9   -5.9  \n",
      "16  2092  1563   -1.9   -5.9  \n",
      "17  4202  3422   -1.9   -5.9  \n",
      "18  1967  1628   -1.8   -5.6  \n",
      "19  1993  1629   -1.8   -5.5  \n",
      "20  1349  1121   -1.7   -5.4  \n",
      "21  1725  1168   -1.6   -5.3  \n",
      "22  5920  4610   -1.6   -5.1  \n",
      "23  1721  1457   -1.5   -4.8  \n",
      "24  1846  1463   -1.5   -4.8  \n",
      "25  2506  2139   -1.5   -4.7  \n",
      "26  2512  1961   -1.5   -4.7  \n",
      "27  3662  2804   -1.5   -4.9  \n",
      "28  1844  1535   -1.4   -4.4  \n",
      "29  2626  2232   -1.4   -4.4  \n",
      "30  5191  4116   -1.4   -4.5  \n",
      "31  2711  2124   -1.3   -4.2  \n",
      "32  2012  1713   -1.2   -3.9  \n",
      "33  1790  1373   -1.2   -3.9  \n",
      "34  2176  1840   -1.2   -3.7  \n",
      "35  2137  1707   -1.2   -3.9  \n",
      "36  4410  3701   -1.2   -3.8  \n",
      "37  2143  1795   -1.1   -3.6  \n",
      "38  2281  1828   -1.1   -3.6  \n",
      "39  2626  2267   -1.1   -3.6  \n",
      "40  3056  2480   -1.1   -3.6  \n",
      "41  4472  3466   -1.1   -3.7  \n",
      "42  2421  2054   -1.0   -3.3  \n",
      "43  4177  3621   -1.0   -3.1  \n",
      "44  2353  2039   -0.9   -3.1  \n",
      "45  2364  1988   -0.9   -3.1  \n",
      "46  4414  3999   -0.9   -2.9  \n",
      "47  2670  2199   -0.8   -2.9  \n",
      "48  2677  2278   -0.7   -2.5  \n",
      "49  2677  2278   -0.7   -2.5  \n",
      "50  3014  2646   -0.6   -2.1  \n",
      "51  2871  2505   -0.6   -2.3  \n",
      "52  3547  3007   -0.5   -1.8  \n",
      "53  1411   760    0.0   -7.3  \n",
      "54  1968  1693    1.6    0.0  \n"
     ]
    }
   ],
   "source": [
    "from MySQL_connection import df\n",
    "import pandas as pd\n",
    "import numpy as np\n",
    "import matplotlib.pyplot as plt\n",
    "%matplotlib inline\n",
    "import random\n",
    "import sklearn\n"
   ]
  },
  {
   "cell_type": "markdown",
   "id": "16cbe79b",
   "metadata": {},
   "source": [
    "### Let's create two dataFrames \n",
    "##### First for learning and secound for testing"
   ]
  },
  {
   "cell_type": "code",
   "execution_count": 2,
   "id": "6db6f8e9",
   "metadata": {
    "scrolled": true
   },
   "outputs": [],
   "source": [
    "#Creation of new df (we will use it for testing later)\n",
    "#Drop the columns 'ID' 'BD100' and 'BD200' - they are useless here\n",
    "test_df = df.drop(['ID', 'BD100', 'BD200'], axis=1)\n",
    "\n",
    "#Now I create new df for learning. It contains 30 random notations from database of balistics\n",
    "learning_df = pd.DataFrame(data={\n",
    "                                 'Cartridge':pd.Series([], index=[],dtype=object),\n",
    "                                 'Type':pd.Series([], index=[],dtype=object),\n",
    "                                 'Weight':pd.Series([], index=[],dtype=object),\n",
    "                                 'BC':pd.Series([], index=[],dtype=object),\n",
    "                                 'V0':pd.Series([], index=[],dtype=object),\n",
    "                                 'V100':pd.Series([], index=[],dtype=object),\n",
    "                                 'V200':pd.Series([], index=[],dtype=object),\n",
    "                                 'E0':pd.Series([], index=[],dtype=object),\n",
    "                                 'E100':pd.Series([], index=[],dtype=object),\n",
    "                                 'E200':pd.Series([], index=[],dtype=object),\n",
    "                                })\n",
    "\n",
    "\n",
    "#filling 'learning_df' with 30 random notes\n",
    "for i in range(0, 30):\n",
    "    \n",
    "    #random index to choose a note\n",
    "    j = random.randrange(0, 54-i)\n",
    "    \n",
    "    #extracting j'th note from test_df and inserting it into learning_df\n",
    "    note = test_df.iloc[j]\n",
    "    learning_df = learning_df.append(note, ignore_index=True)\n",
    "    test_df = test_df.drop(test_df.index[j], axis=0)\n",
    "\n",
    "#indexation of test_df was damaged. Let's reset it!\n",
    "test_df = test_df.reset_index().drop(['index'], axis=1)\n"
   ]
  },
  {
   "cell_type": "markdown",
   "id": "a03257f5",
   "metadata": {},
   "source": [
    "#### Let's see velocity distribution on different ditances:\n",
    "(here we use only learning_df data)\n",
    "### 0 feets:"
   ]
  },
  {
   "cell_type": "code",
   "execution_count": 3,
   "id": "c9d3dc28",
   "metadata": {},
   "outputs": [
    {
     "name": "stdout",
     "output_type": "stream",
     "text": [
      "mean velocty =  2675.7\n",
      "std =  342.74833936567956\n"
     ]
    },
    {
     "data": {
      "image/png": "[encoded data removed]",
      "text/plain": [
       "<Figure size 720x432 with 1 Axes>"
      ]
     },
     "metadata": {
      "needs_background": "light"
     },
     "output_type": "display_data"
    }
   ],
   "source": [
    "#Overview of 'V0' distribition \n",
    "plt.figure(figsize=(10,6))\n",
    "learning_df['V0'].plot(kind='hist')\n",
    "\n",
    "#'V0' mean and std\n",
    "mean_V0 = learning_df['V0'].mean()\n",
    "std_V0 = learning_df['V0'].std()\n",
    "\n",
    "print('mean velocty = ', mean_V0)\n",
    "print('std = ', std_V0)"
   ]
  },
  {
   "cell_type": "markdown",
   "id": "411fed67",
   "metadata": {},
   "source": [
    "### 100 feets :"
   ]
  },
  {
   "cell_type": "code",
   "execution_count": 4,
   "id": "65281051",
   "metadata": {},
   "outputs": [
    {
     "name": "stdout",
     "output_type": "stream",
     "text": [
      "mean velocty =  2404.633333333333\n",
      "std =  393.19473839161503\n"
     ]
    },
    {
     "data": {
      "image/png": "[encoded data removed]",
      "text/plain": [
       "<Figure size 720x432 with 1 Axes>"
      ]
     },
     "metadata": {
      "needs_background": "light"
     },
     "output_type": "display_data"
    }
   ],
   "source": [
    "#Overview of 'V100' distribition \n",
    "plt.figure(figsize=(10,6))\n",
    "learning_df['V100'].plot(kind='hist')\n",
    "\n",
    "#'V100' mean and std\n",
    "mean_V100 = learning_df['V100'].mean()\n",
    "std_V100 = learning_df['V100'].std()\n",
    "\n",
    "print('mean velocty = ', mean_V100)\n",
    "print('std = ', std_V100)"
   ]
  },
  {
   "cell_type": "markdown",
   "id": "2b11ec5c",
   "metadata": {},
   "source": [
    "### 200 feets :"
   ]
  },
  {
   "cell_type": "code",
   "execution_count": 5,
   "id": "703f0b79",
   "metadata": {},
   "outputs": [
    {
     "name": "stdout",
     "output_type": "stream",
     "text": [
      "mean velocty =  2157.3333333333335\n",
      "std =  427.37969336276444\n"
     ]
    },
    {
     "data": {
      "image/png": "[encoded data removed]",
      "text/plain": [
       "<Figure size 720x432 with 1 Axes>"
      ]
     },
     "metadata": {
      "needs_background": "light"
     },
     "output_type": "display_data"
    }
   ],
   "source": [
    "#Overview of 'V200' distribition \n",
    "plt.figure(figsize=(10,6))\n",
    "learning_df['V200'].plot(kind='hist')\n",
    "\n",
    "#'V200' mean and std\n",
    "mean_V200 = learning_df['V200'].mean()\n",
    "std_V200 = learning_df['V200'].std()\n",
    "\n",
    "print('mean velocty = ', mean_V200)\n",
    "print('std = ', std_V200)"
   ]
  },
  {
   "cell_type": "markdown",
   "id": "6dd2fc7c",
   "metadata": {},
   "source": [
    "##### Let's see also mean velocity changes due to ditance and \n",
    "##### what is the weight of bullets distribution"
   ]
  },
  {
   "cell_type": "code",
   "execution_count": 6,
   "id": "dbb08aae",
   "metadata": {},
   "outputs": [
    {
     "data": {
      "text/plain": [
       "<matplotlib.collections.PathCollection at 0x1b0a93796d0>"
      ]
     },
     "execution_count": 6,
     "metadata": {},
     "output_type": "execute_result"
    },
    {
     "data": {
      "image/png": "[encoded data removed]",
      "text/plain": [
       "<Figure size 720x432 with 2 Axes>"
      ]
     },
     "metadata": {
      "needs_background": "light"
     },
     "output_type": "display_data"
    }
   ],
   "source": [
    "#I create figure for plots\n",
    "figure = plt.figure(figsize=(10,6))\n",
    "\n",
    "#creating plots and locating them\n",
    "ax1 = figure.add_subplot(1, 2, 1) \n",
    "ax2 = figure.add_subplot(1,2,2) \n",
    "\n",
    "#filling the plots\n",
    "mean_velocity = [mean_V0, mean_V100, mean_V200]\n",
    "distance = [0, 100, 200]\n",
    "\n",
    "mass = learning_df['Weight']\n",
    "V0 = learning_df['V0']\n",
    "\n",
    "ax1.plot(distance, mean_velocity)\n",
    "ax2.scatter(V0, mass)\n"
   ]
  },
  {
   "cell_type": "markdown",
   "id": "c3e066da",
   "metadata": {},
   "source": [
    "Left axe shows that on this distance we can suppose that velocity changes linearly. Right axe show that there are no correlation between mass and velocity. So we can make hipothesis about if we know mass, balistic coeficient and muzzle velocity we can predict how bullet's velocity changes."
   ]
  },
  {
   "cell_type": "markdown",
   "id": "d5173080",
   "metadata": {},
   "source": [
    "# Learning\n",
    "\n",
    "I'm gonna use linear regression model and learn it with 'learning_df'"
   ]
  },
  {
   "cell_type": "code",
   "execution_count": null,
   "id": "ae79ecc0",
   "metadata": {},
   "outputs": [],
   "source": []
  }
 ],
 "metadata": {
  "kernelspec": {
   "display_name": "Python 3 (ipykernel)",
   "language": "python",
   "name": "python3"
  },
  "language_info": {
   "codemirror_mode": {
    "name": "ipython",
    "version": 3
   },
   "file_extension": ".py",
   "mimetype": "text/x-python",
   "name": "python",
   "nbconvert_exporter": "python",
   "pygments_lexer": "ipython3",
   "version": "3.9.7"
  }
 },
 "nbformat": 4,
 "nbformat_minor": 5
}
