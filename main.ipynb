{
 "cells": [
  {
   "cell_type": "code",
   "execution_count": 8,
   "id": "11249b4d",
   "metadata": {},
   "outputs": [],
   "source": [
    "from MySQL_connection import df\n",
    "import pandas as pd\n",
    "import numpy as np\n",
    "import matplotlib.pyplot as plt\n",
    "%matplotlib inline\n",
    "import random\n",
    "import sklearn\n"
   ]
  },
  {
   "cell_type": "markdown",
   "id": "16cbe79b",
   "metadata": {},
   "source": [
    "### Let's create two dataFrames \n",
    "##### First for learning and secound for testing"
   ]
  },
  {
   "cell_type": "code",
   "execution_count": 2,
   "id": "6db6f8e9",
   "metadata": {
    "scrolled": true
   },
   "outputs": [],
   "source": [
    "#Creation of new df (we will use it for testing later)\n",
    "#Drop the columns 'ID' 'BD100' and 'BD200' - they are useless here\n",
    "test_df = df.drop(['ID', 'BD100', 'BD200'], axis=1)\n",
    "\n",
    "#Now I create new df for learning. It contains 30 random notations from database of balistics\n",
    "learning_df = pd.DataFrame(data={\n",
    "                                 'Cartridge':pd.Series([], index=[],dtype=object),\n",
    "                                 'Type':pd.Series([], index=[],dtype=object),\n",
    "                                 'Weight':pd.Series([], index=[],dtype=object),\n",
    "                                 'BC':pd.Series([], index=[],dtype=object),\n",
    "                                 'V0':pd.Series([], index=[],dtype=object),\n",
    "                                 'V100':pd.Series([], index=[],dtype=object),\n",
    "                                 'V200':pd.Series([], index=[],dtype=object),\n",
    "                                 'E0':pd.Series([], index=[],dtype=object),\n",
    "                                 'E100':pd.Series([], index=[],dtype=object),\n",
    "                                 'E200':pd.Series([], index=[],dtype=object),\n",
    "                                })\n",
    "\n",
    "\n",
    "#filling 'learning_df' with 30 random notes\n",
    "for i in range(0, 30):\n",
    "    \n",
    "    #random index to choose a note\n",
    "    j = random.randrange(0, 54-i)\n",
    "    \n",
    "    #extracting j'th note from test_df and inserting it into learning_df\n",
    "    note = test_df.iloc[j]\n",
    "    learning_df = learning_df.append(note, ignore_index=True)\n",
    "    test_df = test_df.drop(test_df.index[j], axis=0)\n",
    "\n",
    "#indexation of test_df was damaged. Let's reset it!\n",
    "test_df = test_df.reset_index().drop(['index'], axis=1)\n"
   ]
  },
  {
   "cell_type": "markdown",
   "id": "dddeca07",
   "metadata": {},
   "source": [
    "#### Let's see velocity distribution on different ditances:\n",
    "(here we use only learning_df data)\n",
    "### 0 feets:"
   ]
  },
  {
   "cell_type": "code",
   "execution_count": 3,
   "id": "c9d3dc28",
   "metadata": {},
   "outputs": [
    {
     "name": "stdout",
     "output_type": "stream",
     "text": [
      "mean velocty =  2639.366666666667\n",
      "std =  351.8541511452734\n"
     ]
    },
    {
     "data": {
      "image/png": "[encoded data removed]",
      "text/plain": [
       "<Figure size 432x288 with 1 Axes>"
      ]
     },
     "metadata": {
      "needs_background": "light"
     },
     "output_type": "display_data"
    }
   ],
   "source": [
    "#Overview of 'V0' distribition \n",
    "learning_df['V0'].plot(kind='hist')\n",
    "\n",
    "#'V0' mean and std\n",
    "mean_V0 = learning_df['V0'].mean()\n",
    "std_V0 = learning_df['V0'].std()\n",
    "\n",
    "print('mean velocty = ', mean_V0)\n",
    "print('std = ', std_V0)"
   ]
  },
  {
   "cell_type": "markdown",
   "id": "04366760",
   "metadata": {},
   "source": [
    "### 100 feets :"
   ]
  },
  {
   "cell_type": "code",
   "execution_count": 4,
   "id": "93a965b0",
   "metadata": {},
   "outputs": [
    {
     "name": "stdout",
     "output_type": "stream",
     "text": [
      "mean velocty =  2359.1666666666665\n",
      "std =  396.54126048163994\n"
     ]
    },
    {
     "data": {
      "image/png": "[encoded data removed]",
      "text/plain": [
       "<Figure size 432x288 with 1 Axes>"
      ]
     },
     "metadata": {
      "needs_background": "light"
     },
     "output_type": "display_data"
    }
   ],
   "source": [
    "#Overview of 'V100' distribition \n",
    "learning_df['V100'].plot(kind='hist')\n",
    "\n",
    "#'V100' mean and std\n",
    "mean_V100 = learning_df['V100'].mean()\n",
    "std_V100 = learning_df['V100'].std()\n",
    "\n",
    "print('mean velocty = ', mean_V100)\n",
    "print('std = ', std_V100)"
   ]
  },
  {
   "cell_type": "markdown",
   "id": "fc567333",
   "metadata": {},
   "source": [
    "### 200 feets :"
   ]
  },
  {
   "cell_type": "code",
   "execution_count": 5,
   "id": "a12872f0",
   "metadata": {},
   "outputs": [
    {
     "name": "stdout",
     "output_type": "stream",
     "text": [
      "mean velocty =  2102.9666666666667\n",
      "std =  432.81464403593606\n"
     ]
    },
    {
     "data": {
      "image/png": "[encoded data removed]",
      "text/plain": [
       "<Figure size 432x288 with 1 Axes>"
      ]
     },
     "metadata": {
      "needs_background": "light"
     },
     "output_type": "display_data"
    }
   ],
   "source": [
    "#Overview of 'V200' distribition \n",
    "learning_df['V200'].plot(kind='hist')\n",
    "\n",
    "#'V200' mean and std\n",
    "mean_V200 = learning_df['V200'].mean()\n",
    "std_V200 = learning_df['V200'].std()\n",
    "\n",
    "print('mean velocty = ', mean_V200)\n",
    "print('std = ', std_V200)"
   ]
  },
  {
   "cell_type": "markdown",
   "id": "9b3241f8",
   "metadata": {},
   "source": [
    "##### Let's see also mean velocity changes due to ditance and \n",
    "##### what is the weight of bullets distribution"
   ]
  },
  {
   "cell_type": "code",
   "execution_count": 19,
   "id": "5638c5c8",
   "metadata": {},
   "outputs": [
    {
     "data": {
      "text/plain": [
       "<matplotlib.collections.PathCollection at 0x1e56f4079a0>"
      ]
     },
     "execution_count": 19,
     "metadata": {},
     "output_type": "execute_result"
    },
    {
     "data": {
      "image/png": "[encoded data removed]",
      "text/plain": [
       "<Figure size 432x288 with 2 Axes>"
      ]
     },
     "metadata": {
      "needs_background": "light"
     },
     "output_type": "display_data"
    }
   ],
   "source": [
    "#I create figure for plots\n",
    "figure = plt.figure()\n",
    "\n",
    "#creating plots and locating them\n",
    "ax1 = figure.add_subplot(1, 2, 1) \n",
    "ax2 = figure.add_subplot(1,2,2) \n",
    "\n",
    "#filling the plots\n",
    "mean_velocity = [mean_V0, mean_V100, mean_V200]\n",
    "distance = [0, 100, 200]\n",
    "\n",
    "mass = learning_df['Weight']\n",
    "V0 = learning_df['V0']\n",
    "ax1.plot(distance, mean_velocity)\n",
    "ax2.scatter(V0, mass)\n"
   ]
  },
  {
   "cell_type": "markdown",
   "id": "f4835279",
   "metadata": {},
   "source": [
    "Left axe shows that on this distance we can suppose that velocity changes linearly. Right axe show that there are no correlation between mass and velocity. So we can make hipothesis about if we know mass and muzzle velocity we can predict how bullet's velocity changes."
   ]
  },
  {
   "cell_type": "markdown",
   "id": "80859696",
   "metadata": {},
   "source": [
    "###"
   ]
  }
 ],
 "metadata": {
  "kernelspec": {
   "display_name": "Python 3 (ipykernel)",
   "language": "python",
   "name": "python3"
  },
  "language_info": {
   "codemirror_mode": {
    "name": "ipython",
    "version": 3
   },
   "file_extension": ".py",
   "mimetype": "text/x-python",
   "name": "python",
   "nbconvert_exporter": "python",
   "pygments_lexer": "ipython3",
   "version": "3.9.7"
  }
 },
 "nbformat": 4,
 "nbformat_minor": 5
}
